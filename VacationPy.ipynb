{
 "cells": [
  {
   "cell_type": "code",
   "execution_count": 1,
   "metadata": {},
   "outputs": [],
   "source": [
    "# Import the dependencies.\n",
    "import pandas as pd\n",
    "import gmaps\n",
    "import requests\n",
    "import ipywidgets as widgets\n",
    "import gmaps.datasets\n",
    "# Import the API key.\n",
    "from config import g_key\n"
   ]
  },
  {
   "cell_type": "code",
   "execution_count": 2,
   "metadata": {},
   "outputs": [
    {
     "data": {
      "text/html": [
       "<div>\n",
       "<style scoped>\n",
       "    .dataframe tbody tr th:only-of-type {\n",
       "        vertical-align: middle;\n",
       "    }\n",
       "\n",
       "    .dataframe tbody tr th {\n",
       "        vertical-align: top;\n",
       "    }\n",
       "\n",
       "    .dataframe thead th {\n",
       "        text-align: right;\n",
       "    }\n",
       "</style>\n",
       "<table border=\"1\" class=\"dataframe\">\n",
       "  <thead>\n",
       "    <tr style=\"text-align: right;\">\n",
       "      <th></th>\n",
       "      <th>City_ID</th>\n",
       "      <th>City</th>\n",
       "      <th>Country</th>\n",
       "      <th>Date</th>\n",
       "      <th>Lat</th>\n",
       "      <th>Lng</th>\n",
       "      <th>Max Temp</th>\n",
       "      <th>Humidity</th>\n",
       "      <th>Cloudiness</th>\n",
       "      <th>Wind Speed</th>\n",
       "    </tr>\n",
       "  </thead>\n",
       "  <tbody>\n",
       "    <tr>\n",
       "      <th>0</th>\n",
       "      <td>0</td>\n",
       "      <td>Bunia</td>\n",
       "      <td>CD</td>\n",
       "      <td>2020-01-03 05:19:36</td>\n",
       "      <td>1.56</td>\n",
       "      <td>30.25</td>\n",
       "      <td>79.03</td>\n",
       "      <td>54</td>\n",
       "      <td>84</td>\n",
       "      <td>4.21</td>\n",
       "    </tr>\n",
       "    <tr>\n",
       "      <th>1</th>\n",
       "      <td>1</td>\n",
       "      <td>Ushuaia</td>\n",
       "      <td>AR</td>\n",
       "      <td>2020-01-03 05:19:37</td>\n",
       "      <td>-54.81</td>\n",
       "      <td>-68.31</td>\n",
       "      <td>48.20</td>\n",
       "      <td>49</td>\n",
       "      <td>4</td>\n",
       "      <td>16.11</td>\n",
       "    </tr>\n",
       "    <tr>\n",
       "      <th>2</th>\n",
       "      <td>2</td>\n",
       "      <td>Ponta Do Sol</td>\n",
       "      <td>BR</td>\n",
       "      <td>2020-01-03 05:17:00</td>\n",
       "      <td>-20.63</td>\n",
       "      <td>-46.00</td>\n",
       "      <td>65.50</td>\n",
       "      <td>95</td>\n",
       "      <td>99</td>\n",
       "      <td>2.21</td>\n",
       "    </tr>\n",
       "    <tr>\n",
       "      <th>3</th>\n",
       "      <td>3</td>\n",
       "      <td>Kieta</td>\n",
       "      <td>PG</td>\n",
       "      <td>2020-01-03 05:17:09</td>\n",
       "      <td>-6.22</td>\n",
       "      <td>155.63</td>\n",
       "      <td>84.69</td>\n",
       "      <td>73</td>\n",
       "      <td>46</td>\n",
       "      <td>6.91</td>\n",
       "    </tr>\n",
       "    <tr>\n",
       "      <th>4</th>\n",
       "      <td>4</td>\n",
       "      <td>Atuona</td>\n",
       "      <td>PF</td>\n",
       "      <td>2020-01-03 05:17:05</td>\n",
       "      <td>-9.80</td>\n",
       "      <td>-139.03</td>\n",
       "      <td>80.83</td>\n",
       "      <td>78</td>\n",
       "      <td>3</td>\n",
       "      <td>15.82</td>\n",
       "    </tr>\n",
       "  </tbody>\n",
       "</table>\n",
       "</div>"
      ],
      "text/plain": [
       "   City_ID          City Country                 Date    Lat     Lng  \\\n",
       "0        0         Bunia      CD  2020-01-03 05:19:36   1.56   30.25   \n",
       "1        1       Ushuaia      AR  2020-01-03 05:19:37 -54.81  -68.31   \n",
       "2        2  Ponta Do Sol      BR  2020-01-03 05:17:00 -20.63  -46.00   \n",
       "3        3         Kieta      PG  2020-01-03 05:17:09  -6.22  155.63   \n",
       "4        4        Atuona      PF  2020-01-03 05:17:05  -9.80 -139.03   \n",
       "\n",
       "   Max Temp  Humidity  Cloudiness  Wind Speed  \n",
       "0     79.03        54          84        4.21  \n",
       "1     48.20        49           4       16.11  \n",
       "2     65.50        95          99        2.21  \n",
       "3     84.69        73          46        6.91  \n",
       "4     80.83        78           3       15.82  "
      ]
     },
     "execution_count": 2,
     "metadata": {},
     "output_type": "execute_result"
    }
   ],
   "source": [
    "# Store the CSV you saved created in part one into a DataFrame.\n",
    "city_data_df = pd.read_csv(\"weather_data/cities.csv\")\n",
    "city_data_df.head()\n"
   ]
  },
  {
   "cell_type": "code",
   "execution_count": 3,
   "metadata": {},
   "outputs": [
    {
     "data": {
      "text/plain": [
       "City_ID         int64\n",
       "City           object\n",
       "Country        object\n",
       "Date           object\n",
       "Lat           float64\n",
       "Lng           float64\n",
       "Max Temp      float64\n",
       "Humidity        int64\n",
       "Cloudiness      int64\n",
       "Wind Speed    float64\n",
       "dtype: object"
      ]
     },
     "execution_count": 3,
     "metadata": {},
     "output_type": "execute_result"
    }
   ],
   "source": [
    "# Get the data types\n",
    "city_data_df.dtypes\n"
   ]
  },
  {
   "cell_type": "code",
   "execution_count": 4,
   "metadata": {},
   "outputs": [],
   "source": [
    "# Configure gmaps to use your Google API key.\n",
    "gmaps.configure(api_key=g_key)\n"
   ]
  },
  {
   "cell_type": "code",
   "execution_count": 5,
   "metadata": {},
   "outputs": [
    {
     "data": {
      "application/vnd.jupyter.widget-view+json": {
       "model_id": "50fee6aaf43d4e5393247c31449f4f8c",
       "version_major": 2,
       "version_minor": 0
      },
      "text/plain": [
       "Figure(layout=FigureLayout(height='420px'))"
      ]
     },
     "metadata": {},
     "output_type": "display_data"
    }
   ],
   "source": [
    "# Heatmap of temperature\n",
    "# Get the latitude and longitude.\n",
    "locations = city_data_df[[\"Lat\", \"Lng\"]]\n",
    "# Get the maximum temperature.\n",
    "max_temp = city_data_df[\"Max Temp\"]\n",
    "temps = []\n",
    "for temp in max_temp:\n",
    "    temps.append(max(temp, 0))\n",
    "# Assign the figure variable.\n",
    "fig = gmaps.figure(center=(30.0, 31.0), zoom_level=1.5)\n",
    "# Assign the heatmap variable.\n",
    "heat_layer = gmaps.heatmap_layer(locations, weights=temps, dissipating=False, max_intensity=300, point_radius=4)\n",
    "# Add the heatmap layer.\n",
    "fig.add_layer(heat_layer)\n",
    "# Call the figure to plot the data.\n",
    "fig\n"
   ]
  },
  {
   "cell_type": "code",
   "execution_count": 6,
   "metadata": {},
   "outputs": [
    {
     "data": {
      "application/vnd.jupyter.widget-view+json": {
       "model_id": "00af15cc622242ae8361168c79d138f5",
       "version_major": 2,
       "version_minor": 0
      },
      "text/plain": [
       "Figure(layout=FigureLayout(height='420px'))"
      ]
     },
     "metadata": {},
     "output_type": "display_data"
    }
   ],
   "source": [
    "# Heatmap of percent humidity\n",
    "locations = city_data_df[[\"Lat\", \"Lng\"]]\n",
    "humidity = city_data_df[\"Humidity\"]\n",
    "fig = gmaps.figure(center=(30.0, 31.0), zoom_level=1.5)\n",
    "heat_layer = gmaps.heatmap_layer(locations, weights=humidity, dissipating=False, max_intensity=300, point_radius=4)\n",
    "\n",
    "fig.add_layer(heat_layer)\n",
    "# Call the figure to plot the data.\n",
    "fig\n"
   ]
  },
  {
   "cell_type": "code",
   "execution_count": 7,
   "metadata": {},
   "outputs": [
    {
     "data": {
      "application/vnd.jupyter.widget-view+json": {
       "model_id": "ca496d4cf4d74891ab885d041971af61",
       "version_major": 2,
       "version_minor": 0
      },
      "text/plain": [
       "Figure(layout=FigureLayout(height='420px'))"
      ]
     },
     "metadata": {},
     "output_type": "display_data"
    }
   ],
   "source": [
    "# Heatmap of percent cloudiness\n",
    "locations = city_data_df[[\"Lat\", \"Lng\"]]\n",
    "clouds = city_data_df[\"Cloudiness\"]\n",
    "fig = gmaps.figure(center=(30.0, 31.0), zoom_level=1.5)\n",
    "heat_layer = gmaps.heatmap_layer(locations, weights=clouds, dissipating=False, max_intensity=300, point_radius=4)\n",
    "\n",
    "fig.add_layer(heat_layer)\n",
    "# Call the figure to plot the data.\n",
    "fig\n"
   ]
  },
  {
   "cell_type": "code",
   "execution_count": 8,
   "metadata": {},
   "outputs": [
    {
     "data": {
      "application/vnd.jupyter.widget-view+json": {
       "model_id": "7be2316c4bb547f69649928f4f85276a",
       "version_major": 2,
       "version_minor": 0
      },
      "text/plain": [
       "Figure(layout=FigureLayout(height='420px'))"
      ]
     },
     "metadata": {},
     "output_type": "display_data"
    }
   ],
   "source": [
    "# Heatmap of percent Wind Speed\n",
    "locations = city_data_df[[\"Lat\", \"Lng\"]]\n",
    "wind = city_data_df[\"Wind Speed\"]\n",
    "fig = gmaps.figure(center=(30.0, 31.0), zoom_level=1.5)\n",
    "heat_layer = gmaps.heatmap_layer(locations, weights=wind, dissipating=False, max_intensity=300, point_radius=4)\n",
    "\n",
    "fig.add_layer(heat_layer)\n",
    "# Call the figure to plot the data.\n",
    "fig\n"
   ]
  },
  {
   "cell_type": "code",
   "execution_count": 9,
   "metadata": {},
   "outputs": [
    {
     "name": "stdout",
     "output_type": "stream",
     "text": [
      "What is the minimum temperature you would like for your trip? 75\n",
      "What is the maximum temperature you would like for your trip? 90\n"
     ]
    }
   ],
   "source": [
    "# Ask the customer to add a minimum and maximum temperature value.\n",
    "min_temp = float(input(\"What is the minimum temperature you would like for your trip? \"))\n",
    "max_temp = float(input(\"What is the maximum temperature you would like for your trip? \"))\n"
   ]
  },
  {
   "cell_type": "code",
   "execution_count": 10,
   "metadata": {},
   "outputs": [
    {
     "data": {
      "text/html": [
       "<div>\n",
       "<style scoped>\n",
       "    .dataframe tbody tr th:only-of-type {\n",
       "        vertical-align: middle;\n",
       "    }\n",
       "\n",
       "    .dataframe tbody tr th {\n",
       "        vertical-align: top;\n",
       "    }\n",
       "\n",
       "    .dataframe thead th {\n",
       "        text-align: right;\n",
       "    }\n",
       "</style>\n",
       "<table border=\"1\" class=\"dataframe\">\n",
       "  <thead>\n",
       "    <tr style=\"text-align: right;\">\n",
       "      <th></th>\n",
       "      <th>City_ID</th>\n",
       "      <th>City</th>\n",
       "      <th>Country</th>\n",
       "      <th>Date</th>\n",
       "      <th>Lat</th>\n",
       "      <th>Lng</th>\n",
       "      <th>Max Temp</th>\n",
       "      <th>Humidity</th>\n",
       "      <th>Cloudiness</th>\n",
       "      <th>Wind Speed</th>\n",
       "    </tr>\n",
       "  </thead>\n",
       "  <tbody>\n",
       "    <tr>\n",
       "      <th>0</th>\n",
       "      <td>0</td>\n",
       "      <td>Bunia</td>\n",
       "      <td>CD</td>\n",
       "      <td>2020-01-03 05:19:36</td>\n",
       "      <td>1.56</td>\n",
       "      <td>30.25</td>\n",
       "      <td>79.03</td>\n",
       "      <td>54</td>\n",
       "      <td>84</td>\n",
       "      <td>4.21</td>\n",
       "    </tr>\n",
       "    <tr>\n",
       "      <th>3</th>\n",
       "      <td>3</td>\n",
       "      <td>Kieta</td>\n",
       "      <td>PG</td>\n",
       "      <td>2020-01-03 05:17:09</td>\n",
       "      <td>-6.22</td>\n",
       "      <td>155.63</td>\n",
       "      <td>84.69</td>\n",
       "      <td>73</td>\n",
       "      <td>46</td>\n",
       "      <td>6.91</td>\n",
       "    </tr>\n",
       "    <tr>\n",
       "      <th>4</th>\n",
       "      <td>4</td>\n",
       "      <td>Atuona</td>\n",
       "      <td>PF</td>\n",
       "      <td>2020-01-03 05:17:05</td>\n",
       "      <td>-9.80</td>\n",
       "      <td>-139.03</td>\n",
       "      <td>80.83</td>\n",
       "      <td>78</td>\n",
       "      <td>3</td>\n",
       "      <td>15.82</td>\n",
       "    </tr>\n",
       "    <tr>\n",
       "      <th>6</th>\n",
       "      <td>6</td>\n",
       "      <td>Faanui</td>\n",
       "      <td>PF</td>\n",
       "      <td>2020-01-03 05:17:13</td>\n",
       "      <td>-16.48</td>\n",
       "      <td>-151.75</td>\n",
       "      <td>81.73</td>\n",
       "      <td>78</td>\n",
       "      <td>100</td>\n",
       "      <td>9.15</td>\n",
       "    </tr>\n",
       "    <tr>\n",
       "      <th>9</th>\n",
       "      <td>9</td>\n",
       "      <td>Meulaboh</td>\n",
       "      <td>ID</td>\n",
       "      <td>2020-01-03 05:13:47</td>\n",
       "      <td>4.14</td>\n",
       "      <td>96.13</td>\n",
       "      <td>81.99</td>\n",
       "      <td>74</td>\n",
       "      <td>29</td>\n",
       "      <td>3.65</td>\n",
       "    </tr>\n",
       "    <tr>\n",
       "      <th>14</th>\n",
       "      <td>14</td>\n",
       "      <td>Avarua</td>\n",
       "      <td>CK</td>\n",
       "      <td>2020-01-03 05:19:39</td>\n",
       "      <td>-21.21</td>\n",
       "      <td>-159.78</td>\n",
       "      <td>77.00</td>\n",
       "      <td>78</td>\n",
       "      <td>86</td>\n",
       "      <td>3.36</td>\n",
       "    </tr>\n",
       "    <tr>\n",
       "      <th>19</th>\n",
       "      <td>19</td>\n",
       "      <td>Bambous Virieux</td>\n",
       "      <td>MU</td>\n",
       "      <td>2020-01-03 05:16:26</td>\n",
       "      <td>-20.34</td>\n",
       "      <td>57.76</td>\n",
       "      <td>78.80</td>\n",
       "      <td>94</td>\n",
       "      <td>75</td>\n",
       "      <td>9.17</td>\n",
       "    </tr>\n",
       "    <tr>\n",
       "      <th>31</th>\n",
       "      <td>31</td>\n",
       "      <td>Caravelas</td>\n",
       "      <td>BR</td>\n",
       "      <td>2020-01-03 05:16:41</td>\n",
       "      <td>-17.73</td>\n",
       "      <td>-39.27</td>\n",
       "      <td>75.92</td>\n",
       "      <td>86</td>\n",
       "      <td>100</td>\n",
       "      <td>10.85</td>\n",
       "    </tr>\n",
       "    <tr>\n",
       "      <th>36</th>\n",
       "      <td>36</td>\n",
       "      <td>Buala</td>\n",
       "      <td>SB</td>\n",
       "      <td>2020-01-03 05:19:42</td>\n",
       "      <td>-8.15</td>\n",
       "      <td>159.59</td>\n",
       "      <td>84.20</td>\n",
       "      <td>72</td>\n",
       "      <td>73</td>\n",
       "      <td>4.94</td>\n",
       "    </tr>\n",
       "    <tr>\n",
       "      <th>38</th>\n",
       "      <td>38</td>\n",
       "      <td>Vaini</td>\n",
       "      <td>IN</td>\n",
       "      <td>2020-01-03 05:19:43</td>\n",
       "      <td>15.34</td>\n",
       "      <td>74.49</td>\n",
       "      <td>75.20</td>\n",
       "      <td>57</td>\n",
       "      <td>0</td>\n",
       "      <td>6.93</td>\n",
       "    </tr>\n",
       "  </tbody>\n",
       "</table>\n",
       "</div>"
      ],
      "text/plain": [
       "    City_ID             City Country                 Date    Lat     Lng  \\\n",
       "0         0            Bunia      CD  2020-01-03 05:19:36   1.56   30.25   \n",
       "3         3            Kieta      PG  2020-01-03 05:17:09  -6.22  155.63   \n",
       "4         4           Atuona      PF  2020-01-03 05:17:05  -9.80 -139.03   \n",
       "6         6           Faanui      PF  2020-01-03 05:17:13 -16.48 -151.75   \n",
       "9         9         Meulaboh      ID  2020-01-03 05:13:47   4.14   96.13   \n",
       "14       14           Avarua      CK  2020-01-03 05:19:39 -21.21 -159.78   \n",
       "19       19  Bambous Virieux      MU  2020-01-03 05:16:26 -20.34   57.76   \n",
       "31       31        Caravelas      BR  2020-01-03 05:16:41 -17.73  -39.27   \n",
       "36       36            Buala      SB  2020-01-03 05:19:42  -8.15  159.59   \n",
       "38       38            Vaini      IN  2020-01-03 05:19:43  15.34   74.49   \n",
       "\n",
       "    Max Temp  Humidity  Cloudiness  Wind Speed  \n",
       "0      79.03        54          84        4.21  \n",
       "3      84.69        73          46        6.91  \n",
       "4      80.83        78           3       15.82  \n",
       "6      81.73        78         100        9.15  \n",
       "9      81.99        74          29        3.65  \n",
       "14     77.00        78          86        3.36  \n",
       "19     78.80        94          75        9.17  \n",
       "31     75.92        86         100       10.85  \n",
       "36     84.20        72          73        4.94  \n",
       "38     75.20        57           0        6.93  "
      ]
     },
     "execution_count": 10,
     "metadata": {},
     "output_type": "execute_result"
    }
   ],
   "source": [
    "# Filter the dataset to find the cities that fit the criteria.\n",
    "preferred_cities_df = city_data_df.loc[(city_data_df[\"Max Temp\"] <= max_temp) & \\\n",
    "                                       (city_data_df[\"Max Temp\"] >= min_temp)]\n",
    "preferred_cities_df.head(10)\n"
   ]
  },
  {
   "cell_type": "code",
   "execution_count": 11,
   "metadata": {},
   "outputs": [
    {
     "data": {
      "text/plain": [
       "City_ID       118\n",
       "City          118\n",
       "Country       118\n",
       "Date          118\n",
       "Lat           118\n",
       "Lng           118\n",
       "Max Temp      118\n",
       "Humidity      118\n",
       "Cloudiness    118\n",
       "Wind Speed    118\n",
       "dtype: int64"
      ]
     },
     "execution_count": 11,
     "metadata": {},
     "output_type": "execute_result"
    }
   ],
   "source": [
    "preferred_cities_df.count()\n"
   ]
  },
  {
   "cell_type": "code",
   "execution_count": 20,
   "metadata": {},
   "outputs": [
    {
     "name": "stdout",
     "output_type": "stream",
     "text": [
      "                   City Country  Max Temp    Lat     Lng Hotel Name\n",
      "0                 Bunia      CD     79.03   1.56   30.25           \n",
      "3                 Kieta      PG     84.69  -6.22  155.63           \n",
      "4                Atuona      PF     80.83  -9.80 -139.03           \n",
      "6                Faanui      PF     81.73 -16.48 -151.75           \n",
      "9              Meulaboh      ID     81.99   4.14   96.13           \n",
      "..                  ...     ...       ...    ...     ...        ...\n",
      "537             Angoche      MZ     80.10 -16.23   39.91           \n",
      "540           Toamasina      MG     78.80 -18.17   49.38           \n",
      "545  Comodoro Rivadavia      AR     78.80 -45.87  -67.48           \n",
      "549               Binga      ZW     79.84 -17.62   27.34           \n",
      "554               Bowen      AU     87.01 -20.01  148.25           \n",
      "\n",
      "[118 rows x 6 columns]\n"
     ]
    }
   ],
   "source": [
    "# Create DataFrame called hotel_df to store hotel names along with city, country, max temp, and coordinates.\n",
    "hotel_df = preferred_cities_df[[\"City\", \"Country\", \"Max Temp\", \"Lat\", \"Lng\"]].copy()\n",
    "hotel_df[\"Hotel Name\"] = \"\"\n",
    "print(hotel_df)\n"
   ]
  },
  {
   "cell_type": "code",
   "execution_count": 24,
   "metadata": {},
   "outputs": [],
   "source": [
    "# Set parameters to search for a hotel.\n",
    "params = {\n",
    "    \"radius\": 5000,\n",
    "    \"type\": \"lodging\",\n",
    "    \"key\": g_key\n",
    "}"
   ]
  },
  {
   "cell_type": "code",
   "execution_count": 27,
   "metadata": {},
   "outputs": [
    {
     "name": "stdout",
     "output_type": "stream",
     "text": [
      "Hotel not found... skipping.\n",
      "Hotel not found... skipping.\n",
      "Hotel not found... skipping.\n",
      "Hotel not found... skipping.\n",
      "Hotel not found... skipping.\n",
      "Hotel not found... skipping.\n",
      "Hotel not found... skipping.\n",
      "Hotel not found... skipping.\n"
     ]
    }
   ],
   "source": [
    "# Iterate through the DataFrame.\n",
    "for index, row in hotel_df.iterrows():\n",
    "    # Get the latitude and longitude.\n",
    "    lat = row[\"Lat\"]\n",
    "    lng = row[\"Lng\"]\n",
    "\n",
    "    # Add the latitude and longitude to the params dictionary as values to the location key.\n",
    "    params[\"location\"] = f\"{lat},{lng}\"\n",
    "\n",
    "    # Use the search term: \"lodging\" and our latitude and longitude.\n",
    "    base_url = \"https://maps.googleapis.com/maps/api/place/nearbysearch/json\"\n",
    "    # Make request and get the JSON data from the search.\n",
    "    hotels = requests.get(base_url, params=params).json()\n",
    "    # Grab the first hotel from the results and store the name.\n",
    "    try:\n",
    "        hotel_df.loc[index, \"Hotel Name\"] = hotels[\"results\"][0][\"name\"]\n",
    "    except (IndexError):\n",
    "        print(\"Hotel not found... skipping.\")"
   ]
  },
  {
   "cell_type": "code",
   "execution_count": 28,
   "metadata": {},
   "outputs": [
    {
     "data": {
      "text/html": [
       "<div>\n",
       "<style scoped>\n",
       "    .dataframe tbody tr th:only-of-type {\n",
       "        vertical-align: middle;\n",
       "    }\n",
       "\n",
       "    .dataframe tbody tr th {\n",
       "        vertical-align: top;\n",
       "    }\n",
       "\n",
       "    .dataframe thead th {\n",
       "        text-align: right;\n",
       "    }\n",
       "</style>\n",
       "<table border=\"1\" class=\"dataframe\">\n",
       "  <thead>\n",
       "    <tr style=\"text-align: right;\">\n",
       "      <th></th>\n",
       "      <th>City</th>\n",
       "      <th>Country</th>\n",
       "      <th>Max Temp</th>\n",
       "      <th>Lat</th>\n",
       "      <th>Lng</th>\n",
       "      <th>Hotel Name</th>\n",
       "    </tr>\n",
       "  </thead>\n",
       "  <tbody>\n",
       "    <tr>\n",
       "      <th>0</th>\n",
       "      <td>Bunia</td>\n",
       "      <td>CD</td>\n",
       "      <td>79.03</td>\n",
       "      <td>1.56</td>\n",
       "      <td>30.25</td>\n",
       "      <td>Gold Star International Hotel</td>\n",
       "    </tr>\n",
       "    <tr>\n",
       "      <th>3</th>\n",
       "      <td>Kieta</td>\n",
       "      <td>PG</td>\n",
       "      <td>84.69</td>\n",
       "      <td>-6.22</td>\n",
       "      <td>155.63</td>\n",
       "      <td></td>\n",
       "    </tr>\n",
       "    <tr>\n",
       "      <th>4</th>\n",
       "      <td>Atuona</td>\n",
       "      <td>PF</td>\n",
       "      <td>80.83</td>\n",
       "      <td>-9.80</td>\n",
       "      <td>-139.03</td>\n",
       "      <td>Villa Enata</td>\n",
       "    </tr>\n",
       "    <tr>\n",
       "      <th>6</th>\n",
       "      <td>Faanui</td>\n",
       "      <td>PF</td>\n",
       "      <td>81.73</td>\n",
       "      <td>-16.48</td>\n",
       "      <td>-151.75</td>\n",
       "      <td>Bora-Bora Pearl Beach Resort &amp; Spa</td>\n",
       "    </tr>\n",
       "    <tr>\n",
       "      <th>9</th>\n",
       "      <td>Meulaboh</td>\n",
       "      <td>ID</td>\n",
       "      <td>81.99</td>\n",
       "      <td>4.14</td>\n",
       "      <td>96.13</td>\n",
       "      <td>Kost Pria</td>\n",
       "    </tr>\n",
       "    <tr>\n",
       "      <th>...</th>\n",
       "      <td>...</td>\n",
       "      <td>...</td>\n",
       "      <td>...</td>\n",
       "      <td>...</td>\n",
       "      <td>...</td>\n",
       "      <td>...</td>\n",
       "    </tr>\n",
       "    <tr>\n",
       "      <th>537</th>\n",
       "      <td>Angoche</td>\n",
       "      <td>MZ</td>\n",
       "      <td>80.10</td>\n",
       "      <td>-16.23</td>\n",
       "      <td>39.91</td>\n",
       "      <td>Guest House HESADA</td>\n",
       "    </tr>\n",
       "    <tr>\n",
       "      <th>540</th>\n",
       "      <td>Toamasina</td>\n",
       "      <td>MG</td>\n",
       "      <td>78.80</td>\n",
       "      <td>-18.17</td>\n",
       "      <td>49.38</td>\n",
       "      <td>Hotel H1</td>\n",
       "    </tr>\n",
       "    <tr>\n",
       "      <th>545</th>\n",
       "      <td>Comodoro Rivadavia</td>\n",
       "      <td>AR</td>\n",
       "      <td>78.80</td>\n",
       "      <td>-45.87</td>\n",
       "      <td>-67.48</td>\n",
       "      <td>Austral Hotel</td>\n",
       "    </tr>\n",
       "    <tr>\n",
       "      <th>549</th>\n",
       "      <td>Binga</td>\n",
       "      <td>ZW</td>\n",
       "      <td>79.84</td>\n",
       "      <td>-17.62</td>\n",
       "      <td>27.34</td>\n",
       "      <td>Masumu River Lodge</td>\n",
       "    </tr>\n",
       "    <tr>\n",
       "      <th>554</th>\n",
       "      <td>Bowen</td>\n",
       "      <td>AU</td>\n",
       "      <td>87.01</td>\n",
       "      <td>-20.01</td>\n",
       "      <td>148.25</td>\n",
       "      <td>Rose Bay Resort</td>\n",
       "    </tr>\n",
       "  </tbody>\n",
       "</table>\n",
       "<p>118 rows × 6 columns</p>\n",
       "</div>"
      ],
      "text/plain": [
       "                   City Country  Max Temp    Lat     Lng  \\\n",
       "0                 Bunia      CD     79.03   1.56   30.25   \n",
       "3                 Kieta      PG     84.69  -6.22  155.63   \n",
       "4                Atuona      PF     80.83  -9.80 -139.03   \n",
       "6                Faanui      PF     81.73 -16.48 -151.75   \n",
       "9              Meulaboh      ID     81.99   4.14   96.13   \n",
       "..                  ...     ...       ...    ...     ...   \n",
       "537             Angoche      MZ     80.10 -16.23   39.91   \n",
       "540           Toamasina      MG     78.80 -18.17   49.38   \n",
       "545  Comodoro Rivadavia      AR     78.80 -45.87  -67.48   \n",
       "549               Binga      ZW     79.84 -17.62   27.34   \n",
       "554               Bowen      AU     87.01 -20.01  148.25   \n",
       "\n",
       "                             Hotel Name  \n",
       "0         Gold Star International Hotel  \n",
       "3                                        \n",
       "4                           Villa Enata  \n",
       "6    Bora-Bora Pearl Beach Resort & Spa  \n",
       "9                             Kost Pria  \n",
       "..                                  ...  \n",
       "537                  Guest House HESADA  \n",
       "540                            Hotel H1  \n",
       "545                       Austral Hotel  \n",
       "549                  Masumu River Lodge  \n",
       "554                     Rose Bay Resort  \n",
       "\n",
       "[118 rows x 6 columns]"
      ]
     },
     "execution_count": 28,
     "metadata": {},
     "output_type": "execute_result"
    }
   ],
   "source": [
    "hotel_df"
   ]
  },
  {
   "cell_type": "code",
   "execution_count": 37,
   "metadata": {},
   "outputs": [
    {
     "data": {
      "application/vnd.jupyter.widget-view+json": {
       "model_id": "5c379de79bad433f8b09fab214b290f2",
       "version_major": 2,
       "version_minor": 0
      },
      "text/plain": [
       "Figure(layout=FigureLayout(height='420px'))"
      ]
     },
     "metadata": {},
     "output_type": "display_data"
    }
   ],
   "source": [
    "# Add a heatmap of temperature for the vacation spots.\n",
    "locations = hotel_df[[\"Lat\", \"Lng\"]]\n",
    "max_temp = hotel_df[\"Max Temp\"]\n",
    "fig = gmaps.figure(center=(30.0, 31.0), zoom_level=1.5)\n",
    "heat_layer = gmaps.heatmap_layer(locations, weights=max_temp, dissipating=False, max_intensity=300, point_radius=4)\n",
    "\n",
    "info_box_template = \"\"\"\n",
    "<dl>\n",
    "<dt>Hotel Name</dt><dd>{Hotel Name}</dd>\n",
    "<dt>City</dt><dd>{City}</dd>\n",
    "<dt>Country</dt><dd>{Country}</dd>\n",
    "<dt>Max Temp</dt><dd>{Max Temp} °F</dd>\n",
    "</dl>\n",
    "\"\"\"\n",
    "hotel_info = [info_box_template.format(**row) for index, row in hotel_df.iterrows()]\n",
    "marker_layer = gmaps.marker_layer(locations, info_box_content=hotel_info)\n",
    "fig.add_layer(heat_layer)\n",
    "fig.add_layer(marker_layer)\n",
    "# Call the figure to plot the data.\n",
    "fig"
   ]
  }
 ],
 "metadata": {
  "file_extension": ".py",
  "kernelspec": {
   "display_name": "Python 3",
   "language": "python",
   "name": "python3"
  },
  "language_info": {
   "codemirror_mode": {
    "name": "ipython",
    "version": 3
   },
   "file_extension": ".py",
   "mimetype": "text/x-python",
   "name": "python",
   "nbconvert_exporter": "python",
   "pygments_lexer": "ipython3",
   "version": "3.6.9"
  },
  "mimetype": "text/x-python",
  "name": "python",
  "npconvert_exporter": "python",
  "pygments_lexer": "ipython3",
  "version": 3
 },
 "nbformat": 4,
 "nbformat_minor": 2
}
