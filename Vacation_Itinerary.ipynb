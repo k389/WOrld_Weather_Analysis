{
 "cells": [
  {
   "cell_type": "code",
   "execution_count": 8,
   "metadata": {},
   "outputs": [],
   "source": [
    "# Import the dependencies.\n",
    "import pandas as pd\n",
    "import gmaps\n",
    "import requests\n",
    "import ipywidgets as widgets\n",
    "import gmaps.datasets\n",
    "# Import the API key.\n",
    "from config import g_key"
   ]
  },
  {
   "cell_type": "code",
   "execution_count": 9,
   "metadata": {},
   "outputs": [
    {
     "data": {
      "text/html": [
       "<div>\n",
       "<style scoped>\n",
       "    .dataframe tbody tr th:only-of-type {\n",
       "        vertical-align: middle;\n",
       "    }\n",
       "\n",
       "    .dataframe tbody tr th {\n",
       "        vertical-align: top;\n",
       "    }\n",
       "\n",
       "    .dataframe thead th {\n",
       "        text-align: right;\n",
       "    }\n",
       "</style>\n",
       "<table border=\"1\" class=\"dataframe\">\n",
       "  <thead>\n",
       "    <tr style=\"text-align: right;\">\n",
       "      <th></th>\n",
       "      <th>Unnamed: 0</th>\n",
       "      <th>City_ID</th>\n",
       "      <th>City</th>\n",
       "      <th>Lat</th>\n",
       "      <th>Lng</th>\n",
       "      <th>Max Temp</th>\n",
       "      <th>Humidity</th>\n",
       "      <th>Cloudiness</th>\n",
       "      <th>Wind Speed</th>\n",
       "      <th>Country</th>\n",
       "      <th>Current Description</th>\n",
       "      <th>Rain inches (last 3 hrs)</th>\n",
       "      <th>Snow inches (last 3 hrs)</th>\n",
       "      <th>Date</th>\n",
       "      <th>Rain Yes/No</th>\n",
       "      <th>Snow Yes/No</th>\n",
       "    </tr>\n",
       "  </thead>\n",
       "  <tbody>\n",
       "    <tr>\n",
       "      <th>0</th>\n",
       "      <td>1</td>\n",
       "      <td>1</td>\n",
       "      <td>Bathsheba</td>\n",
       "      <td>13.22</td>\n",
       "      <td>-59.52</td>\n",
       "      <td>80.60</td>\n",
       "      <td>69</td>\n",
       "      <td>75</td>\n",
       "      <td>14.99</td>\n",
       "      <td>BB</td>\n",
       "      <td>light intensity shower rain</td>\n",
       "      <td>0.0</td>\n",
       "      <td>0.0</td>\n",
       "      <td>1/5/2020 19:59</td>\n",
       "      <td>no</td>\n",
       "      <td>no</td>\n",
       "    </tr>\n",
       "    <tr>\n",
       "      <th>1</th>\n",
       "      <td>6</td>\n",
       "      <td>6</td>\n",
       "      <td>Luderitz</td>\n",
       "      <td>-26.65</td>\n",
       "      <td>15.16</td>\n",
       "      <td>63.55</td>\n",
       "      <td>85</td>\n",
       "      <td>0</td>\n",
       "      <td>24.99</td>\n",
       "      <td>NaN</td>\n",
       "      <td>clear sky</td>\n",
       "      <td>0.0</td>\n",
       "      <td>0.0</td>\n",
       "      <td>1/5/2020 19:59</td>\n",
       "      <td>no</td>\n",
       "      <td>no</td>\n",
       "    </tr>\n",
       "    <tr>\n",
       "      <th>2</th>\n",
       "      <td>7</td>\n",
       "      <td>7</td>\n",
       "      <td>Kapaa</td>\n",
       "      <td>22.08</td>\n",
       "      <td>-159.32</td>\n",
       "      <td>78.80</td>\n",
       "      <td>74</td>\n",
       "      <td>20</td>\n",
       "      <td>11.95</td>\n",
       "      <td>US</td>\n",
       "      <td>few clouds</td>\n",
       "      <td>0.0</td>\n",
       "      <td>0.0</td>\n",
       "      <td>1/5/2020 19:59</td>\n",
       "      <td>no</td>\n",
       "      <td>no</td>\n",
       "    </tr>\n",
       "    <tr>\n",
       "      <th>3</th>\n",
       "      <td>8</td>\n",
       "      <td>8</td>\n",
       "      <td>Bluff</td>\n",
       "      <td>-23.58</td>\n",
       "      <td>149.07</td>\n",
       "      <td>74.39</td>\n",
       "      <td>77</td>\n",
       "      <td>0</td>\n",
       "      <td>10.36</td>\n",
       "      <td>AU</td>\n",
       "      <td>clear sky</td>\n",
       "      <td>0.0</td>\n",
       "      <td>0.0</td>\n",
       "      <td>1/5/2020 19:59</td>\n",
       "      <td>no</td>\n",
       "      <td>no</td>\n",
       "    </tr>\n",
       "    <tr>\n",
       "      <th>4</th>\n",
       "      <td>9</td>\n",
       "      <td>9</td>\n",
       "      <td>Istmina</td>\n",
       "      <td>5.16</td>\n",
       "      <td>-76.69</td>\n",
       "      <td>86.00</td>\n",
       "      <td>70</td>\n",
       "      <td>75</td>\n",
       "      <td>2.57</td>\n",
       "      <td>CO</td>\n",
       "      <td>broken clouds</td>\n",
       "      <td>0.0</td>\n",
       "      <td>0.0</td>\n",
       "      <td>1/5/2020 19:59</td>\n",
       "      <td>no</td>\n",
       "      <td>no</td>\n",
       "    </tr>\n",
       "  </tbody>\n",
       "</table>\n",
       "</div>"
      ],
      "text/plain": [
       "   Unnamed: 0  City_ID       City    Lat     Lng  Max Temp  Humidity  \\\n",
       "0           1        1  Bathsheba  13.22  -59.52     80.60        69   \n",
       "1           6        6   Luderitz -26.65   15.16     63.55        85   \n",
       "2           7        7      Kapaa  22.08 -159.32     78.80        74   \n",
       "3           8        8      Bluff -23.58  149.07     74.39        77   \n",
       "4           9        9    Istmina   5.16  -76.69     86.00        70   \n",
       "\n",
       "   Cloudiness  Wind Speed Country          Current Description  \\\n",
       "0          75       14.99      BB  light intensity shower rain   \n",
       "1           0       24.99     NaN                    clear sky   \n",
       "2          20       11.95      US                   few clouds   \n",
       "3           0       10.36      AU                    clear sky   \n",
       "4          75        2.57      CO                broken clouds   \n",
       "\n",
       "   Rain inches (last 3 hrs)  Snow inches (last 3 hrs)            Date  \\\n",
       "0                       0.0                       0.0  1/5/2020 19:59   \n",
       "1                       0.0                       0.0  1/5/2020 19:59   \n",
       "2                       0.0                       0.0  1/5/2020 19:59   \n",
       "3                       0.0                       0.0  1/5/2020 19:59   \n",
       "4                       0.0                       0.0  1/5/2020 19:59   \n",
       "\n",
       "  Rain Yes/No Snow Yes/No  \n",
       "0          no          no  \n",
       "1          no          no  \n",
       "2          no          no  \n",
       "3          no          no  \n",
       "4          no          no  "
      ]
     },
     "execution_count": 9,
     "metadata": {},
     "output_type": "execute_result"
    }
   ],
   "source": [
    "# Store the CSV you saved created in part one into a DataFrame.\n",
    "city_data_df = pd.read_csv(\"weather_data/WeatherPy_vacation.csv\")\n",
    "city_data_df.head()\n"
   ]
  },
  {
   "cell_type": "code",
   "execution_count": 10,
   "metadata": {},
   "outputs": [
    {
     "data": {
      "text/plain": [
       "Unnamed: 0                    int64\n",
       "City_ID                       int64\n",
       "City                         object\n",
       "Lat                         float64\n",
       "Lng                         float64\n",
       "Max Temp                    float64\n",
       "Humidity                      int64\n",
       "Cloudiness                    int64\n",
       "Wind Speed                  float64\n",
       "Country                      object\n",
       "Current Description          object\n",
       "Rain inches (last 3 hrs)    float64\n",
       "Snow inches (last 3 hrs)    float64\n",
       "Date                         object\n",
       "Rain Yes/No                  object\n",
       "Snow Yes/No                  object\n",
       "dtype: object"
      ]
     },
     "execution_count": 10,
     "metadata": {},
     "output_type": "execute_result"
    }
   ],
   "source": [
    "# Get the data types\n",
    "city_data_df.dtypes\n"
   ]
  },
  {
   "cell_type": "code",
   "execution_count": 14,
   "metadata": {},
   "outputs": [
    {
     "data": {
      "text/html": [
       "<div>\n",
       "<style scoped>\n",
       "    .dataframe tbody tr th:only-of-type {\n",
       "        vertical-align: middle;\n",
       "    }\n",
       "\n",
       "    .dataframe tbody tr th {\n",
       "        vertical-align: top;\n",
       "    }\n",
       "\n",
       "    .dataframe thead th {\n",
       "        text-align: right;\n",
       "    }\n",
       "</style>\n",
       "<table border=\"1\" class=\"dataframe\">\n",
       "  <thead>\n",
       "    <tr style=\"text-align: right;\">\n",
       "      <th></th>\n",
       "      <th>Unnamed: 0</th>\n",
       "      <th>City_ID</th>\n",
       "      <th>City</th>\n",
       "      <th>Lat</th>\n",
       "      <th>Lng</th>\n",
       "      <th>Max Temp</th>\n",
       "      <th>Humidity</th>\n",
       "      <th>Cloudiness</th>\n",
       "      <th>Wind Speed</th>\n",
       "      <th>Country</th>\n",
       "      <th>Current Description</th>\n",
       "      <th>Rain inches (last 3 hrs)</th>\n",
       "      <th>Snow inches (last 3 hrs)</th>\n",
       "      <th>Date</th>\n",
       "      <th>Rain Yes/No</th>\n",
       "      <th>Snow Yes/No</th>\n",
       "    </tr>\n",
       "  </thead>\n",
       "  <tbody>\n",
       "    <tr>\n",
       "      <th>37</th>\n",
       "      <td>84</td>\n",
       "      <td>84</td>\n",
       "      <td>Constitucion</td>\n",
       "      <td>23.99</td>\n",
       "      <td>-104.67</td>\n",
       "      <td>60.01</td>\n",
       "      <td>19</td>\n",
       "      <td>5</td>\n",
       "      <td>2.24</td>\n",
       "      <td>MX</td>\n",
       "      <td>clear sky</td>\n",
       "      <td>0.0</td>\n",
       "      <td>0.0</td>\n",
       "      <td>1/5/2020 19:59</td>\n",
       "      <td>no</td>\n",
       "      <td>no</td>\n",
       "    </tr>\n",
       "  </tbody>\n",
       "</table>\n",
       "</div>"
      ],
      "text/plain": [
       "    Unnamed: 0  City_ID          City    Lat     Lng  Max Temp  Humidity  \\\n",
       "37          84       84  Constitucion  23.99 -104.67     60.01        19   \n",
       "\n",
       "    Cloudiness  Wind Speed Country Current Description  \\\n",
       "37           5        2.24      MX           clear sky   \n",
       "\n",
       "    Rain inches (last 3 hrs)  Snow inches (last 3 hrs)            Date  \\\n",
       "37                       0.0                       0.0  1/5/2020 19:59   \n",
       "\n",
       "   Rain Yes/No Snow Yes/No  \n",
       "37          no          no  "
      ]
     },
     "execution_count": 14,
     "metadata": {},
     "output_type": "execute_result"
    }
   ],
   "source": [
    "# Filter the City - Acapulco\n",
    "constitucion_city_df = city_data_df[city_data_df[\"City\"]== \"Constitucion\"]\n",
    "constitucion_city_df"
   ]
  },
  {
   "cell_type": "code",
   "execution_count": 16,
   "metadata": {},
   "outputs": [
    {
     "data": {
      "text/html": [
       "<div>\n",
       "<style scoped>\n",
       "    .dataframe tbody tr th:only-of-type {\n",
       "        vertical-align: middle;\n",
       "    }\n",
       "\n",
       "    .dataframe tbody tr th {\n",
       "        vertical-align: top;\n",
       "    }\n",
       "\n",
       "    .dataframe thead th {\n",
       "        text-align: right;\n",
       "    }\n",
       "</style>\n",
       "<table border=\"1\" class=\"dataframe\">\n",
       "  <thead>\n",
       "    <tr style=\"text-align: right;\">\n",
       "      <th></th>\n",
       "      <th>Unnamed: 0</th>\n",
       "      <th>City_ID</th>\n",
       "      <th>City</th>\n",
       "      <th>Lat</th>\n",
       "      <th>Lng</th>\n",
       "      <th>Max Temp</th>\n",
       "      <th>Humidity</th>\n",
       "      <th>Cloudiness</th>\n",
       "      <th>Wind Speed</th>\n",
       "      <th>Country</th>\n",
       "      <th>Current Description</th>\n",
       "      <th>Rain inches (last 3 hrs)</th>\n",
       "      <th>Snow inches (last 3 hrs)</th>\n",
       "      <th>Date</th>\n",
       "      <th>Rain Yes/No</th>\n",
       "      <th>Snow Yes/No</th>\n",
       "    </tr>\n",
       "  </thead>\n",
       "  <tbody>\n",
       "    <tr>\n",
       "      <th>210</th>\n",
       "      <td>441</td>\n",
       "      <td>441</td>\n",
       "      <td>Acapulco</td>\n",
       "      <td>16.86</td>\n",
       "      <td>-99.88</td>\n",
       "      <td>86.0</td>\n",
       "      <td>66</td>\n",
       "      <td>5</td>\n",
       "      <td>5.82</td>\n",
       "      <td>MX</td>\n",
       "      <td>clear sky</td>\n",
       "      <td>0.0</td>\n",
       "      <td>0.0</td>\n",
       "      <td>1/5/2020 20:04</td>\n",
       "      <td>no</td>\n",
       "      <td>no</td>\n",
       "    </tr>\n",
       "  </tbody>\n",
       "</table>\n",
       "</div>"
      ],
      "text/plain": [
       "     Unnamed: 0  City_ID      City    Lat    Lng  Max Temp  Humidity  \\\n",
       "210         441      441  Acapulco  16.86 -99.88      86.0        66   \n",
       "\n",
       "     Cloudiness  Wind Speed Country Current Description  \\\n",
       "210           5        5.82      MX           clear sky   \n",
       "\n",
       "     Rain inches (last 3 hrs)  Snow inches (last 3 hrs)            Date  \\\n",
       "210                       0.0                       0.0  1/5/2020 20:04   \n",
       "\n",
       "    Rain Yes/No Snow Yes/No  \n",
       "210          no          no  "
      ]
     },
     "execution_count": 16,
     "metadata": {},
     "output_type": "execute_result"
    }
   ],
   "source": [
    "# Filter the City - Laguna\n",
    "acapulco_city_df = city_data_df[city_data_df[\"City\"]== \"Acapulco\"]\n",
    "acapulco_city_df"
   ]
  },
  {
   "cell_type": "code",
   "execution_count": 17,
   "metadata": {},
   "outputs": [
    {
     "data": {
      "text/html": [
       "<div>\n",
       "<style scoped>\n",
       "    .dataframe tbody tr th:only-of-type {\n",
       "        vertical-align: middle;\n",
       "    }\n",
       "\n",
       "    .dataframe tbody tr th {\n",
       "        vertical-align: top;\n",
       "    }\n",
       "\n",
       "    .dataframe thead th {\n",
       "        text-align: right;\n",
       "    }\n",
       "</style>\n",
       "<table border=\"1\" class=\"dataframe\">\n",
       "  <thead>\n",
       "    <tr style=\"text-align: right;\">\n",
       "      <th></th>\n",
       "      <th>Unnamed: 0</th>\n",
       "      <th>City_ID</th>\n",
       "      <th>City</th>\n",
       "      <th>Lat</th>\n",
       "      <th>Lng</th>\n",
       "      <th>Max Temp</th>\n",
       "      <th>Humidity</th>\n",
       "      <th>Cloudiness</th>\n",
       "      <th>Wind Speed</th>\n",
       "      <th>Country</th>\n",
       "      <th>Current Description</th>\n",
       "      <th>Rain inches (last 3 hrs)</th>\n",
       "      <th>Snow inches (last 3 hrs)</th>\n",
       "      <th>Date</th>\n",
       "      <th>Rain Yes/No</th>\n",
       "      <th>Snow Yes/No</th>\n",
       "    </tr>\n",
       "  </thead>\n",
       "  <tbody>\n",
       "    <tr>\n",
       "      <th>225</th>\n",
       "      <td>471</td>\n",
       "      <td>471</td>\n",
       "      <td>Acajutla</td>\n",
       "      <td>13.59</td>\n",
       "      <td>-89.83</td>\n",
       "      <td>80.6</td>\n",
       "      <td>36</td>\n",
       "      <td>0</td>\n",
       "      <td>11.41</td>\n",
       "      <td>SV</td>\n",
       "      <td>clear sky</td>\n",
       "      <td>0.0</td>\n",
       "      <td>0.0</td>\n",
       "      <td>1/5/2020 20:04</td>\n",
       "      <td>no</td>\n",
       "      <td>no</td>\n",
       "    </tr>\n",
       "  </tbody>\n",
       "</table>\n",
       "</div>"
      ],
      "text/plain": [
       "     Unnamed: 0  City_ID      City    Lat    Lng  Max Temp  Humidity  \\\n",
       "225         471      471  Acajutla  13.59 -89.83      80.6        36   \n",
       "\n",
       "     Cloudiness  Wind Speed Country Current Description  \\\n",
       "225           0       11.41      SV           clear sky   \n",
       "\n",
       "     Rain inches (last 3 hrs)  Snow inches (last 3 hrs)            Date  \\\n",
       "225                       0.0                       0.0  1/5/2020 20:04   \n",
       "\n",
       "    Rain Yes/No Snow Yes/No  \n",
       "225          no          no  "
      ]
     },
     "execution_count": 17,
     "metadata": {},
     "output_type": "execute_result"
    }
   ],
   "source": [
    "# Filter the City - Acajutla\n",
    "acajutla_city_df = city_data_df[city_data_df[\"City\"]== \"Acajutla\"]\n",
    "acajutla_city_df"
   ]
  },
  {
   "cell_type": "code",
   "execution_count": 34,
   "metadata": {},
   "outputs": [
    {
     "data": {
      "text/html": [
       "<div>\n",
       "<style scoped>\n",
       "    .dataframe tbody tr th:only-of-type {\n",
       "        vertical-align: middle;\n",
       "    }\n",
       "\n",
       "    .dataframe tbody tr th {\n",
       "        vertical-align: top;\n",
       "    }\n",
       "\n",
       "    .dataframe thead th {\n",
       "        text-align: right;\n",
       "    }\n",
       "</style>\n",
       "<table border=\"1\" class=\"dataframe\">\n",
       "  <thead>\n",
       "    <tr style=\"text-align: right;\">\n",
       "      <th></th>\n",
       "      <th>Unnamed: 0</th>\n",
       "      <th>City_ID</th>\n",
       "      <th>City</th>\n",
       "      <th>Lat</th>\n",
       "      <th>Lng</th>\n",
       "      <th>Max Temp</th>\n",
       "      <th>Humidity</th>\n",
       "      <th>Cloudiness</th>\n",
       "      <th>Wind Speed</th>\n",
       "      <th>Country</th>\n",
       "      <th>Current Description</th>\n",
       "      <th>Rain inches (last 3 hrs)</th>\n",
       "      <th>Snow inches (last 3 hrs)</th>\n",
       "      <th>Date</th>\n",
       "      <th>Rain Yes/No</th>\n",
       "      <th>Snow Yes/No</th>\n",
       "    </tr>\n",
       "  </thead>\n",
       "  <tbody>\n",
       "    <tr>\n",
       "      <th>82</th>\n",
       "      <td>188</td>\n",
       "      <td>188</td>\n",
       "      <td>La Gomera</td>\n",
       "      <td>14.09</td>\n",
       "      <td>-91.05</td>\n",
       "      <td>87.8</td>\n",
       "      <td>66</td>\n",
       "      <td>5</td>\n",
       "      <td>13.87</td>\n",
       "      <td>GT</td>\n",
       "      <td>smoke</td>\n",
       "      <td>0.0</td>\n",
       "      <td>0.0</td>\n",
       "      <td>1/5/2020 20:03</td>\n",
       "      <td>no</td>\n",
       "      <td>no</td>\n",
       "    </tr>\n",
       "  </tbody>\n",
       "</table>\n",
       "</div>"
      ],
      "text/plain": [
       "    Unnamed: 0  City_ID       City    Lat    Lng  Max Temp  Humidity  \\\n",
       "82         188      188  La Gomera  14.09 -91.05      87.8        66   \n",
       "\n",
       "    Cloudiness  Wind Speed Country Current Description  \\\n",
       "82           5       13.87      GT               smoke   \n",
       "\n",
       "    Rain inches (last 3 hrs)  Snow inches (last 3 hrs)            Date  \\\n",
       "82                       0.0                       0.0  1/5/2020 20:03   \n",
       "\n",
       "   Rain Yes/No Snow Yes/No  \n",
       "82          no          no  "
      ]
     },
     "execution_count": 34,
     "metadata": {},
     "output_type": "execute_result"
    }
   ],
   "source": [
    "# Filter the City - Chirilagua\n",
    "LaGomera_city_df = city_data_df[city_data_df[\"City\"]== \"La Gomera\"]\n",
    "LaGomera_city_df"
   ]
  },
  {
   "cell_type": "code",
   "execution_count": 35,
   "metadata": {},
   "outputs": [
    {
     "data": {
      "text/html": [
       "<div>\n",
       "<style scoped>\n",
       "    .dataframe tbody tr th:only-of-type {\n",
       "        vertical-align: middle;\n",
       "    }\n",
       "\n",
       "    .dataframe tbody tr th {\n",
       "        vertical-align: top;\n",
       "    }\n",
       "\n",
       "    .dataframe thead th {\n",
       "        text-align: right;\n",
       "    }\n",
       "</style>\n",
       "<table border=\"1\" class=\"dataframe\">\n",
       "  <thead>\n",
       "    <tr style=\"text-align: right;\">\n",
       "      <th></th>\n",
       "      <th>Unnamed: 0</th>\n",
       "      <th>City_ID</th>\n",
       "      <th>City</th>\n",
       "      <th>Lat</th>\n",
       "      <th>Lng</th>\n",
       "      <th>Max Temp</th>\n",
       "      <th>Humidity</th>\n",
       "      <th>Cloudiness</th>\n",
       "      <th>Wind Speed</th>\n",
       "      <th>Country</th>\n",
       "      <th>Current Description</th>\n",
       "      <th>Rain inches (last 3 hrs)</th>\n",
       "      <th>Snow inches (last 3 hrs)</th>\n",
       "      <th>Date</th>\n",
       "      <th>Rain Yes/No</th>\n",
       "      <th>Snow Yes/No</th>\n",
       "    </tr>\n",
       "  </thead>\n",
       "  <tbody>\n",
       "    <tr>\n",
       "      <th>37</th>\n",
       "      <td>84</td>\n",
       "      <td>84</td>\n",
       "      <td>Constitucion</td>\n",
       "      <td>23.99</td>\n",
       "      <td>-104.67</td>\n",
       "      <td>60.01</td>\n",
       "      <td>19</td>\n",
       "      <td>5</td>\n",
       "      <td>2.24</td>\n",
       "      <td>MX</td>\n",
       "      <td>clear sky</td>\n",
       "      <td>0.0</td>\n",
       "      <td>0.0</td>\n",
       "      <td>1/5/2020 19:59</td>\n",
       "      <td>no</td>\n",
       "      <td>no</td>\n",
       "    </tr>\n",
       "    <tr>\n",
       "      <th>82</th>\n",
       "      <td>188</td>\n",
       "      <td>188</td>\n",
       "      <td>La Gomera</td>\n",
       "      <td>14.09</td>\n",
       "      <td>-91.05</td>\n",
       "      <td>87.80</td>\n",
       "      <td>66</td>\n",
       "      <td>5</td>\n",
       "      <td>13.87</td>\n",
       "      <td>GT</td>\n",
       "      <td>smoke</td>\n",
       "      <td>0.0</td>\n",
       "      <td>0.0</td>\n",
       "      <td>1/5/2020 20:03</td>\n",
       "      <td>no</td>\n",
       "      <td>no</td>\n",
       "    </tr>\n",
       "    <tr>\n",
       "      <th>210</th>\n",
       "      <td>441</td>\n",
       "      <td>441</td>\n",
       "      <td>Acapulco</td>\n",
       "      <td>16.86</td>\n",
       "      <td>-99.88</td>\n",
       "      <td>86.00</td>\n",
       "      <td>66</td>\n",
       "      <td>5</td>\n",
       "      <td>5.82</td>\n",
       "      <td>MX</td>\n",
       "      <td>clear sky</td>\n",
       "      <td>0.0</td>\n",
       "      <td>0.0</td>\n",
       "      <td>1/5/2020 20:04</td>\n",
       "      <td>no</td>\n",
       "      <td>no</td>\n",
       "    </tr>\n",
       "    <tr>\n",
       "      <th>225</th>\n",
       "      <td>471</td>\n",
       "      <td>471</td>\n",
       "      <td>Acajutla</td>\n",
       "      <td>13.59</td>\n",
       "      <td>-89.83</td>\n",
       "      <td>80.60</td>\n",
       "      <td>36</td>\n",
       "      <td>0</td>\n",
       "      <td>11.41</td>\n",
       "      <td>SV</td>\n",
       "      <td>clear sky</td>\n",
       "      <td>0.0</td>\n",
       "      <td>0.0</td>\n",
       "      <td>1/5/2020 20:04</td>\n",
       "      <td>no</td>\n",
       "      <td>no</td>\n",
       "    </tr>\n",
       "  </tbody>\n",
       "</table>\n",
       "</div>"
      ],
      "text/plain": [
       "     Unnamed: 0  City_ID          City    Lat     Lng  Max Temp  Humidity  \\\n",
       "37           84       84  Constitucion  23.99 -104.67     60.01        19   \n",
       "82          188      188     La Gomera  14.09  -91.05     87.80        66   \n",
       "210         441      441      Acapulco  16.86  -99.88     86.00        66   \n",
       "225         471      471      Acajutla  13.59  -89.83     80.60        36   \n",
       "\n",
       "     Cloudiness  Wind Speed Country Current Description  \\\n",
       "37            5        2.24      MX           clear sky   \n",
       "82            5       13.87      GT               smoke   \n",
       "210           5        5.82      MX           clear sky   \n",
       "225           0       11.41      SV           clear sky   \n",
       "\n",
       "     Rain inches (last 3 hrs)  Snow inches (last 3 hrs)            Date  \\\n",
       "37                        0.0                       0.0  1/5/2020 19:59   \n",
       "82                        0.0                       0.0  1/5/2020 20:03   \n",
       "210                       0.0                       0.0  1/5/2020 20:04   \n",
       "225                       0.0                       0.0  1/5/2020 20:04   \n",
       "\n",
       "    Rain Yes/No Snow Yes/No  \n",
       "37           no          no  \n",
       "82           no          no  \n",
       "210          no          no  \n",
       "225          no          no  "
      ]
     },
     "execution_count": 35,
     "metadata": {},
     "output_type": "execute_result"
    }
   ],
   "source": [
    "# Filter the City - for all four cities\n",
    "four_city_df = city_data_df.loc[city_data_df[\"City\"].isin([\"Acapulco\", \"Constitucion\", \"Acajutla\", \"La Gomera\"])]\n",
    "four_city_df\n"
   ]
  },
  {
   "cell_type": "code",
   "execution_count": 21,
   "metadata": {
    "scrolled": false
   },
   "outputs": [
    {
     "data": {
      "text/plain": [
       "[(23.99, -104.67), (30.3, -99.24), (16.86, -99.88), (13.59, -89.83)]"
      ]
     },
     "execution_count": 21,
     "metadata": {},
     "output_type": "execute_result"
    }
   ],
   "source": [
    "# Latitude-Longtitude Pairs\n",
    "four_city = four_city_df[[\"Lat\", \"Lng\"]]\n",
    "four_city_tuple = [tuple(x) for x in four_city.values]\n",
    "four_city_tuple"
   ]
  },
  {
   "cell_type": "code",
   "execution_count": 22,
   "metadata": {},
   "outputs": [
    {
     "data": {
      "text/plain": [
       "(16.86, -99.88)"
      ]
     },
     "execution_count": 22,
     "metadata": {},
     "output_type": "execute_result"
    }
   ],
   "source": [
    "# Pair the city Lan and Lng\n",
    "acapulco = acapulco_city_df[[\"Lat\", \"Lng\"]]\n",
    "acapulco_tuple = [tuple(x) for x in acapulco.values][0]\n",
    "#acapulco_tuple = acapulco_tuple[0]\n",
    "acapulco_tuple"
   ]
  },
  {
   "cell_type": "code",
   "execution_count": 23,
   "metadata": {},
   "outputs": [
    {
     "data": {
      "text/plain": [
       "(23.99, -104.67)"
      ]
     },
     "execution_count": 23,
     "metadata": {},
     "output_type": "execute_result"
    }
   ],
   "source": [
    "# Pair the city Lan and Lng\n",
    "constitucion = constitucion_city_df[[\"Lat\", \"Lng\"]]\n",
    "constitucion_tuple = [tuple(x) for x in constitucion.values][0]\n",
    "#laguna_tuple = laguna_tuple[0]\n",
    "constitucion_tuple"
   ]
  },
  {
   "cell_type": "code",
   "execution_count": 24,
   "metadata": {},
   "outputs": [
    {
     "data": {
      "text/plain": [
       "(13.59, -89.83)"
      ]
     },
     "execution_count": 24,
     "metadata": {},
     "output_type": "execute_result"
    }
   ],
   "source": [
    "# Pair the city Lan and Lng\n",
    "acajutla = acajutla_city_df[[\"Lat\", \"Lng\"]]\n",
    "acajutla_tuple = [tuple(x) for x in acajutla.values][0]\n",
    "#laguna_tuple = laguna_tuple[0]\n",
    "acajutla_tuple"
   ]
  },
  {
   "cell_type": "code",
   "execution_count": 37,
   "metadata": {},
   "outputs": [
    {
     "data": {
      "text/plain": [
       "(14.09, -91.05)"
      ]
     },
     "execution_count": 37,
     "metadata": {},
     "output_type": "execute_result"
    }
   ],
   "source": [
    "# Pair the city Lan and Lng\n",
    "LaGomera = LaGomera_city_df[[\"Lat\", \"Lng\"]]\n",
    "LaGomera_tuple = [tuple(x) for x in LaGomera.values][0]\n",
    "#laguna_tuple = laguna_tuple[0]\n",
    "LaGomera_tuple"
   ]
  },
  {
   "cell_type": "code",
   "execution_count": 38,
   "metadata": {
    "scrolled": true
   },
   "outputs": [
    {
     "data": {
      "application/vnd.jupyter.widget-view+json": {
       "model_id": "5585bc958a6346b3a4ca7e466b03c37d",
       "version_major": 2,
       "version_minor": 0
      },
      "text/plain": [
       "Figure(layout=FigureLayout(height='420px'))"
      ]
     },
     "metadata": {},
     "output_type": "display_data"
    }
   ],
   "source": [
    "# Create the Direction Map\n",
    "\n",
    "#acapulco_test = (16.86, -99.88)\n",
    "#laguna_test = (16.17, -88.94)\n",
    "#acajutla_test = (13.59, -89.83)\n",
    "#miramar_test = (10.09, -84.73)\n",
    "\n",
    "fig = gmaps.figure()\n",
    "four_city_directions = gmaps.directions_layer(acapulco_tuple, LaGomera_tuple, waypoints=[acajutla_tuple, constitucion_tuple], travel_mode='DRIVING')\n",
    "#four_city_directions = gmaps.directions_layer(acapulco_test, laguna_test, waypoints=[acajutla_test, miramar_test], travel_mode='DRIVING')\n",
    "fig.add_layer(four_city_directions)\n",
    "fig"
   ]
  },
  {
   "cell_type": "code",
   "execution_count": 39,
   "metadata": {},
   "outputs": [],
   "source": [
    "# Configure gmaps to use your Google API key.\n",
    "gmaps.configure(api_key=g_key)\n"
   ]
  },
  {
   "cell_type": "code",
   "execution_count": 40,
   "metadata": {},
   "outputs": [
    {
     "name": "stdout",
     "output_type": "stream",
     "text": [
      "             City Country  Max Temp    Lat     Lng Current Description  \\\n",
      "37   Constitucion      MX     60.01  23.99 -104.67           clear sky   \n",
      "82      La Gomera      GT     87.80  14.09  -91.05               smoke   \n",
      "210      Acapulco      MX     86.00  16.86  -99.88           clear sky   \n",
      "225      Acajutla      SV     80.60  13.59  -89.83           clear sky   \n",
      "\n",
      "    Hotel Name  \n",
      "37              \n",
      "82              \n",
      "210             \n",
      "225             \n"
     ]
    }
   ],
   "source": [
    "# Create DataFrame called hotel_df to store hotel names along with city, country, max temp, and coordinates.\n",
    "hotel_df = four_city_df[[\"City\", \"Country\", \"Max Temp\", \"Lat\", \"Lng\", \"Current Description\"]].copy()\n",
    "hotel_df[\"Hotel Name\"] = \"\"\n",
    "print(hotel_df)\n"
   ]
  },
  {
   "cell_type": "code",
   "execution_count": 41,
   "metadata": {},
   "outputs": [],
   "source": [
    "# Set parameters to search for a hotel.\n",
    "params = {\n",
    "    \"radius\": 5000,\n",
    "    \"type\": \"lodging\",\n",
    "    \"key\": g_key\n",
    "}"
   ]
  },
  {
   "cell_type": "code",
   "execution_count": 42,
   "metadata": {},
   "outputs": [],
   "source": [
    "# Iterate through the DataFrame.\n",
    "for index, row in hotel_df.iterrows():\n",
    "    # Get the latitude and longitude.\n",
    "    lat = row[\"Lat\"]\n",
    "    lng = row[\"Lng\"]\n",
    "\n",
    "    # Add the latitude and longitude to the params dictionary as values to the location key.\n",
    "    params[\"location\"] = f\"{lat},{lng}\"\n",
    "\n",
    "    # Use the search term: \"lodging\" and our latitude and longitude.\n",
    "    base_url = \"https://maps.googleapis.com/maps/api/place/nearbysearch/json\"\n",
    "    # Make request and get the JSON data from the search.\n",
    "    hotels = requests.get(base_url, params=params).json()\n",
    "    # Grab the first hotel from the results and store the name.\n",
    "    try:\n",
    "        hotel_df.loc[index, \"Hotel Name\"] = hotels[\"results\"][0][\"name\"]\n",
    "    except (IndexError):\n",
    "        print(\"Hotel not found... skipping.\")"
   ]
  },
  {
   "cell_type": "code",
   "execution_count": 43,
   "metadata": {},
   "outputs": [
    {
     "data": {
      "text/html": [
       "<div>\n",
       "<style scoped>\n",
       "    .dataframe tbody tr th:only-of-type {\n",
       "        vertical-align: middle;\n",
       "    }\n",
       "\n",
       "    .dataframe tbody tr th {\n",
       "        vertical-align: top;\n",
       "    }\n",
       "\n",
       "    .dataframe thead th {\n",
       "        text-align: right;\n",
       "    }\n",
       "</style>\n",
       "<table border=\"1\" class=\"dataframe\">\n",
       "  <thead>\n",
       "    <tr style=\"text-align: right;\">\n",
       "      <th></th>\n",
       "      <th>City</th>\n",
       "      <th>Country</th>\n",
       "      <th>Max Temp</th>\n",
       "      <th>Lat</th>\n",
       "      <th>Lng</th>\n",
       "      <th>Current Description</th>\n",
       "      <th>Hotel Name</th>\n",
       "    </tr>\n",
       "  </thead>\n",
       "  <tbody>\n",
       "    <tr>\n",
       "      <th>37</th>\n",
       "      <td>Constitucion</td>\n",
       "      <td>MX</td>\n",
       "      <td>60.01</td>\n",
       "      <td>23.99</td>\n",
       "      <td>-104.67</td>\n",
       "      <td>clear sky</td>\n",
       "      <td>Hotel Posada San Agustin</td>\n",
       "    </tr>\n",
       "    <tr>\n",
       "      <th>82</th>\n",
       "      <td>La Gomera</td>\n",
       "      <td>GT</td>\n",
       "      <td>87.80</td>\n",
       "      <td>14.09</td>\n",
       "      <td>-91.05</td>\n",
       "      <td>smoke</td>\n",
       "      <td>Hotel Colonial Doña Manuelita</td>\n",
       "    </tr>\n",
       "    <tr>\n",
       "      <th>210</th>\n",
       "      <td>Acapulco</td>\n",
       "      <td>MX</td>\n",
       "      <td>86.00</td>\n",
       "      <td>16.86</td>\n",
       "      <td>-99.88</td>\n",
       "      <td>clear sky</td>\n",
       "      <td>Crowne Plaza Acapulco</td>\n",
       "    </tr>\n",
       "    <tr>\n",
       "      <th>225</th>\n",
       "      <td>Acajutla</td>\n",
       "      <td>SV</td>\n",
       "      <td>80.60</td>\n",
       "      <td>13.59</td>\n",
       "      <td>-89.83</td>\n",
       "      <td>clear sky</td>\n",
       "      <td>Villavela Hotel Boutique</td>\n",
       "    </tr>\n",
       "  </tbody>\n",
       "</table>\n",
       "</div>"
      ],
      "text/plain": [
       "             City Country  Max Temp    Lat     Lng Current Description  \\\n",
       "37   Constitucion      MX     60.01  23.99 -104.67           clear sky   \n",
       "82      La Gomera      GT     87.80  14.09  -91.05               smoke   \n",
       "210      Acapulco      MX     86.00  16.86  -99.88           clear sky   \n",
       "225      Acajutla      SV     80.60  13.59  -89.83           clear sky   \n",
       "\n",
       "                        Hotel Name  \n",
       "37        Hotel Posada San Agustin  \n",
       "82   Hotel Colonial Doña Manuelita  \n",
       "210          Crowne Plaza Acapulco  \n",
       "225       Villavela Hotel Boutique  "
      ]
     },
     "execution_count": 43,
     "metadata": {},
     "output_type": "execute_result"
    }
   ],
   "source": [
    "hotel_df"
   ]
  },
  {
   "cell_type": "code",
   "execution_count": 44,
   "metadata": {},
   "outputs": [
    {
     "data": {
      "application/vnd.jupyter.widget-view+json": {
       "model_id": "859f9ff56f0048be9b1457c07f3a1463",
       "version_major": 2,
       "version_minor": 0
      },
      "text/plain": [
       "Figure(layout=FigureLayout(height='420px'))"
      ]
     },
     "metadata": {},
     "output_type": "display_data"
    }
   ],
   "source": [
    "# Add a heatmap of temperature for the vacation spots.\n",
    "locations = hotel_df[[\"Lat\", \"Lng\"]]\n",
    "max_temp = hotel_df[\"Max Temp\"]\n",
    "fig = gmaps.figure(center=(30.0, 31.0), zoom_level=1.5)\n",
    "#heat_layer = gmaps._layer(locations, weights=max_temp, dissipating=False, max_intensity=300, point_radius=4)\n",
    "\n",
    "info_box_template = \"\"\"\n",
    "<dl>\n",
    "<dt>Hotel Name</dt><dd>{Hotel Name}</dd>\n",
    "<dt>City</dt><dd>{City}</dd>\n",
    "<dt>Country</dt><dd>{Country}</dd>\n",
    "<dt>Current Weather</dt><dd>{Current Description} and {Max Temp} °F</dd>\n",
    "</dl>\n",
    "\"\"\"\n",
    "hotel_info = [info_box_template.format(**row) for index, row in hotel_df.iterrows()]\n",
    "marker_layer = gmaps.marker_layer(locations, info_box_content=hotel_info)\n",
    "#fig.add_layer(heat_layer)\n",
    "fig.add_layer(marker_layer)\n",
    "# Call the figure to plot the data.\n",
    "fig\n"
   ]
  }
 ],
 "metadata": {
  "file_extension": ".py",
  "kernelspec": {
   "display_name": "Python 3",
   "language": "python",
   "name": "python3"
  },
  "language_info": {
   "codemirror_mode": {
    "name": "ipython",
    "version": 3
   },
   "file_extension": ".py",
   "mimetype": "text/x-python",
   "name": "python",
   "nbconvert_exporter": "python",
   "pygments_lexer": "ipython3",
   "version": "3.6.9"
  },
  "mimetype": "text/x-python",
  "name": "python",
  "npconvert_exporter": "python",
  "pygments_lexer": "ipython3",
  "version": 3
 },
 "nbformat": 4,
 "nbformat_minor": 2
}
